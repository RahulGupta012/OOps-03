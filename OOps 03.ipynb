{
 "cells": [
  {
   "cell_type": "markdown",
   "metadata": {},
   "source": [
    "Q1. What is Abstraction in OOps? Explain with an example."
   ]
  },
  {
   "cell_type": "markdown",
   "metadata": {},
   "source": [
    "Abstraction is basically used for giving a structer to the code and hide the internal functionality of the function from the users. So that code will decrease their complexity and increase efficiency.It makes a blueprint of a task to the work accordingly. as a  leader give a blueprint of the task to other employee.  "
   ]
  },
  {
   "cell_type": "code",
   "execution_count": 12,
   "metadata": {},
   "outputs": [],
   "source": [
    "                                              #This is a Blueprint\n",
    "\n",
    "\n",
    "#function abc import from the python package\n",
    "import abc\n",
    "\n",
    "\n",
    "class data_science:\n",
    "    \n",
    "    @abc.abstractmethod\n",
    "    def student_details(self):\n",
    "        pass\n",
    "    \n",
    "    @abc.abstractmethod\n",
    "    def assignment_details(self):\n",
    "        pass\n",
    "    \n",
    "    @abc.abstractmethod\n",
    "    def reporcard (self):\n",
    "        pass"
   ]
  },
  {
   "cell_type": "code",
   "execution_count": 13,
   "metadata": {},
   "outputs": [],
   "source": [
    "#we are creating a class, by using two methods form the blueprint.\n",
    "class political_science(data_science):\n",
    "        \n",
    "    def assignment_details(self):\n",
    "        return \"These are the assignments\"\n",
    "\n",
    "\n",
    "    def reporcard (self):\n",
    "        return \"these are the report card\""
   ]
  },
  {
   "cell_type": "code",
   "execution_count": 16,
   "metadata": {},
   "outputs": [],
   "source": [
    "#we are creating a another class by using the method of same blueprint.\n",
    "class social_science(data_science):\n",
    "    def assignment_details(self):\n",
    "        return \"This is social science result\""
   ]
  },
  {
   "cell_type": "markdown",
   "metadata": {},
   "source": [
    "now we can use the access any of the class and its methods."
   ]
  },
  {
   "cell_type": "code",
   "execution_count": 17,
   "metadata": {},
   "outputs": [
    {
     "data": {
      "text/plain": [
       "'These are the assignments'"
      ]
     },
     "execution_count": 17,
     "metadata": {},
     "output_type": "execute_result"
    }
   ],
   "source": [
    "obj= political_science()\n",
    "obj.assignment_details()\n",
    "   "
   ]
  },
  {
   "cell_type": "code",
   "execution_count": 19,
   "metadata": {},
   "outputs": [
    {
     "data": {
      "text/plain": [
       "'These are the assignments'"
      ]
     },
     "execution_count": 19,
     "metadata": {},
     "output_type": "execute_result"
    }
   ],
   "source": [
    "obj1= social_science()\n",
    "obj.assignment_details()"
   ]
  },
  {
   "cell_type": "markdown",
   "metadata": {},
   "source": [
    "Q2. Differentiate between Abstraction and Encapsulation. Explain with an example."
   ]
  },
  {
   "cell_type": "markdown",
   "metadata": {},
   "source": [
    "1.Abstraction is a blueprint for genrating the data or information while encapsulation have always a pre-stored data, it is just used for combine or insert the data from one class to another class so we can access it easily. \n",
    "\n",
    "2.by using the abstraction we can hide the unwanted information from the user but in encapsulation we need to hide the whole class.\n",
    "\n",
    "3.In abstraction, implementation complexities are hidden using abstract classes and interfaces.While in encapsulation, the data is hidden using methods of getters and setters.\n",
    "\n",
    "4.Abstraction provides access to specific part of data.Encapsulation hides data and the user can not access same directly\n"
   ]
  },
  {
   "cell_type": "markdown",
   "metadata": {},
   "source": [
    "Q3. What is abc module in python? Why is it used?"
   ]
  },
  {
   "cell_type": "markdown",
   "metadata": {},
   "source": [
    "'abc'  full form = 'abstract base class'.\n",
    "\n",
    "Python has pre-existed package in which there are many tools for abstarct base class. abc has a very important method named abstract class. By using this we can able to make the blueprint of the abstraction. for calling the method we using @ , and type @abstractmethod.\n"
   ]
  },
  {
   "cell_type": "markdown",
   "metadata": {},
   "source": [
    "Q4. How can we achieve data abstraction?"
   ]
  },
  {
   "cell_type": "markdown",
   "metadata": {},
   "source": [
    "There are few steps for achieving the data abstraction:\n",
    "\n",
    "step1; We should import the abstract base class (abc) from python pakage.\n",
    "\n",
    "step2; we should creat a class in which the method will stored.\n",
    "\n",
    "step3; after creating the class we need to call abstract method by using @abstarctmethod.\n",
    "\n",
    "step4; after that we creat a mehtod by giving a name to it..(as many we want).\n",
    "\n",
    "step5; in the end of every methods we should never forget to type 'pass'\n",
    "\n",
    "Now we are eligibe to use these all definations to our method and and access them as we want."
   ]
  },
  {
   "cell_type": "markdown",
   "metadata": {},
   "source": [
    "Q5. Can we create an instance of an abstract class? Explain your answer."
   ]
  },
  {
   "cell_type": "markdown",
   "metadata": {},
   "source": [
    "''' No, you cannot create an instance of an abstract class in Python. Abstract classes are designed to serve as blueprints \n",
    "for subclasses and cannot be instantiated directly. They are meant to be inherited by concrete subclasses that provide \n",
    "implementations for the abstract methods defined in the abstract class."
   ]
  },
  {
   "cell_type": "markdown",
   "metadata": {},
   "source": []
  }
 ],
 "metadata": {
  "kernelspec": {
   "display_name": "Python 3",
   "language": "python",
   "name": "python3"
  },
  "language_info": {
   "codemirror_mode": {
    "name": "ipython",
    "version": 3
   },
   "file_extension": ".py",
   "mimetype": "text/x-python",
   "name": "python",
   "nbconvert_exporter": "python",
   "pygments_lexer": "ipython3",
   "version": "3.11.4"
  },
  "orig_nbformat": 4
 },
 "nbformat": 4,
 "nbformat_minor": 2
}
